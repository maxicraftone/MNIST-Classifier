{
 "cells": [
  {
   "cell_type": "markdown",
   "id": "387014a9",
   "metadata": {},
   "source": [
    "## MNIST Classifier\n",
    "This small project demonstrates a classifier for the MNIST dataset of handwritten numbers.\n",
    "The model uses two hidden layers with leaky ReLUs, the Cross-Entropy loss function and the Adam optimizer. \n",
    "\n",
    "We use the pytorch library for building and training the model, torchvision for loading the datasets and matplotlib for plotting results."
   ]
  },
  {
   "cell_type": "code",
   "execution_count": 1,
   "id": "15e4bdc0",
   "metadata": {},
   "outputs": [],
   "source": [
    "import torch #PyTorch import\n",
    "from torch import nn,functional,optim #Essentials for model\n",
    "from torch.nn.functional import leaky_relu\n",
    "\n",
    "from torchvision import transforms as tfs, datasets as dts #Import for using MNIST dataset and transforming data\n",
    "from torch.utils.data import DataLoader #Loading datasets\n",
    "\n",
    "import matplotlib.pyplot as plt #Plotting results and data"
   ]
  },
  {
   "cell_type": "markdown",
   "id": "d89f22f3",
   "metadata": {},
   "source": [
    "### Hyperparameters for the leaky ReLUs and the optimizer\n",
    "In this part we will be defining parameters which will influence the training. They are probably not optimal, but were the best ones found in a relatively short time. "
   ]
  },
  {
   "cell_type": "code",
   "execution_count": 2,
   "id": "f58459db",
   "metadata": {},
   "outputs": [],
   "source": [
    "leaky_relu_slope_1 = 0.01 #Slope for negative values of leakyReLU\n",
    "leaky_relu_slope_2 = 0.01 #Slope for negative values of leakyReLU\n",
    "\n",
    "adam_lr = 0.02 #Adam optimizer learning rate"
   ]
  },
  {
   "cell_type": "markdown",
   "id": "2f52479d",
   "metadata": {},
   "source": [
    "### Loading and transforming data\n",
    "Now the MNIST training and test datasets are downloaded and transformed to pytorch tensors."
   ]
  },
  {
   "cell_type": "code",
   "execution_count": 3,
   "id": "bd3f34f0",
   "metadata": {},
   "outputs": [],
   "source": [
    "transform = tfs.Compose([tfs.ToTensor()]) # Transform data to pytorch tensor"
   ]
  },
  {
   "cell_type": "code",
   "execution_count": 4,
   "id": "3c322847",
   "metadata": {},
   "outputs": [],
   "source": [
    "trainset = dts.MNIST('./MNIST_data/', download=True, train=True, transform=transform) # 60000 labeled training images\n",
    "testset = dts.MNIST('./MNIST_data/', download=True, train=False, transform=transform) # 10000 labeled test images"
   ]
  },
  {
   "cell_type": "markdown",
   "id": "6e4b2f30",
   "metadata": {},
   "source": [
    "The data is loaded in batches for quicker and more efficient calculations."
   ]
  },
  {
   "cell_type": "code",
   "execution_count": 5,
   "id": "26345cb6",
   "metadata": {},
   "outputs": [],
   "source": [
    "batch_size = 64 # Size for batches of data loaded in the DataLoader\n",
    "\n",
    "trainloader = DataLoader(trainset, batch_size=batch_size, shuffle=True) # Load in 60000/batch_size batches (tensors)\n",
    "testloader = DataLoader(testset, batch_size=batch_size, shuffle=True) # Load in 10000/batch_size batches (tensors)"
   ]
  },
  {
   "cell_type": "markdown",
   "id": "121b6b39",
   "metadata": {},
   "source": [
    "### Creating the model\n",
    "The next step is defining the neural network/model with 784 input nodes (one node for each pixel) and 10 output nodes for classification. The model uses two hidden layers and leakyReLU functions with a negative slope defined in the hyperparameters above."
   ]
  },
  {
   "cell_type": "code",
   "execution_count": 6,
   "id": "69b6954e",
   "metadata": {},
   "outputs": [],
   "source": [
    "class Network(nn.Module):\n",
    "    def __init__(self):\n",
    "        \"\"\"\n",
    "        Initialize the network. Define layers\n",
    "        \n",
    "        :return: None\n",
    "        \"\"\"\n",
    "        super(Network, self).__init__()\n",
    "        self.hidden_layer_1 = nn.Linear(28 * 28, 128)\n",
    "        self.hidden_layer_2 = nn.Linear(128, 64)\n",
    "        \n",
    "        self.output_layer = nn.Linear(64, 10)\n",
    "    \n",
    "    def forward(self, input):\n",
    "        \"\"\"\n",
    "        Feeds data into the network and returns values of the output nodes.\n",
    "        \n",
    "        :param input: Tensor of dimensions (batch_size, 784)\n",
    "        :return: Tensor of dimensions (batch_size, 10)\n",
    "        \"\"\"\n",
    "        input = leaky_relu(self.hidden_layer_1(input), leaky_relu_slope_1) # Leaky ReLU for first hidden layer\n",
    "        input = leaky_relu(self.hidden_layer_2(input), leaky_relu_slope_2) # Leaky ReLU for second hidden layer\n",
    "        \n",
    "        output = self.output_layer(input)\n",
    "        return output\n",
    "\n",
    "model = Network()"
   ]
  },
  {
   "cell_type": "markdown",
   "id": "41099c68",
   "metadata": {},
   "source": [
    "Here the loss function and optimizer are defined using hyperparameters declared above. "
   ]
  },
  {
   "cell_type": "code",
   "execution_count": 7,
   "id": "45cf1322",
   "metadata": {},
   "outputs": [],
   "source": [
    "criterion = nn.CrossEntropyLoss() #Loss function CrossEntropyLoss = -log(Softmax)\n",
    "optimizer = optim.Adam(model.parameters(),lr=adam_lr) #Adam optimizer"
   ]
  },
  {
   "cell_type": "markdown",
   "id": "d8f1fdde",
   "metadata": {},
   "source": [
    "### Training and testing the model\n",
    "Now we train and test the network in epochs. Loss on training and test data are shown for every epoch, as well as average accuracy of predictions on the test dataset.\n",
    "Losses for every epoch are stored in a list for plotting them later."
   ]
  },
  {
   "cell_type": "code",
   "execution_count": 8,
   "id": "3767576e",
   "metadata": {},
   "outputs": [
    {
     "name": "stdout",
     "output_type": "stream",
     "text": [
      "Epoch: 1/10\n",
      ">  Training Loss: 0.311\n",
      ">  Test Loss: 0.242\n",
      ">>  Test Accuracy: 0.932\n",
      "Epoch: 2/10\n",
      ">  Training Loss: 0.215\n",
      ">  Test Loss: 0.218\n",
      ">>  Test Accuracy: 0.943\n",
      "Epoch: 3/10\n",
      ">  Training Loss: 0.161\n",
      ">  Test Loss: 0.198\n",
      ">>  Test Accuracy: 0.948\n",
      "Epoch: 4/10\n",
      ">  Training Loss: 0.145\n",
      ">  Test Loss: 0.168\n",
      ">>  Test Accuracy: 0.96\n",
      "Epoch: 5/10\n",
      ">  Training Loss: 0.13\n",
      ">  Test Loss: 0.143\n",
      ">>  Test Accuracy: 0.963\n",
      "Epoch: 6/10\n",
      ">  Training Loss: 0.119\n",
      ">  Test Loss: 0.195\n",
      ">>  Test Accuracy: 0.954\n",
      "Epoch: 7/10\n",
      ">  Training Loss: 0.117\n",
      ">  Test Loss: 0.15\n",
      ">>  Test Accuracy: 0.965\n",
      "Epoch: 8/10\n",
      ">  Training Loss: 0.13\n",
      ">  Test Loss: 0.18\n",
      ">>  Test Accuracy: 0.961\n",
      "Epoch: 9/10\n",
      ">  Training Loss: 0.113\n",
      ">  Test Loss: 0.165\n",
      ">>  Test Accuracy: 0.964\n",
      "Epoch: 10/10\n",
      ">  Training Loss: 0.113\n",
      ">  Test Loss: 0.187\n",
      ">>  Test Accuracy: 0.963\n"
     ]
    }
   ],
   "source": [
    "epochs = 10\n",
    "\n",
    "training_losses = []\n",
    "test_losses = []\n",
    "\n",
    "for epoch in range(epochs):\n",
    "    print('Epoch:', str(epoch+1) + '/' + str(epochs))\n",
    "    \n",
    "    #Training\n",
    "    training_loss = 0\n",
    "    for images, labels in trainloader:\n",
    "        images = images.view(images.shape[0],-1) #Flatten images from 2D to 1D\n",
    "        \n",
    "        optimizer.zero_grad() #Set gradients to zero\n",
    "        \n",
    "        predictions = model(images)\n",
    "        \n",
    "        loss = criterion(predictions, labels)\n",
    "        loss.backward()\n",
    "        \n",
    "        optimizer.step()\n",
    "        \n",
    "        training_loss += loss.item()\n",
    "    \n",
    "    training_losses.append(training_loss)\n",
    "    print('>  Training Loss:', str(round(training_loss/len(trainloader), 3)))\n",
    "    \n",
    "    #Test\n",
    "    test_loss = 0\n",
    "    accuracy = 0\n",
    "    for images,labels in testloader:\n",
    "        images = images.view(images.shape[0],-1)\n",
    "                \n",
    "        test_predictions = model(images)\n",
    "        \n",
    "        test_loss += criterion(test_predictions, labels)\n",
    "                \n",
    "        top_probability, top_guess = test_predictions.topk(1, dim=1) #Tensor of top guesses for each image\n",
    "        guess_correct = top_guess == labels.view(top_guess.shape) #Tensor of booleans for each guess (True: correct guess, False: wrong guess)\n",
    "        accuracy += torch.mean(guess_correct.type(torch.FloatTensor)) #Calculate mean of booleans (True:=1.0, False:=0.0)\n",
    "\n",
    "    print('>  Test Loss:', str(round(test_loss.tolist()/len(testloader), 3)))\n",
    "    print('>>  Test Accuracy:', str(round(accuracy.tolist()/len(testloader), 3)))"
   ]
  },
  {
   "cell_type": "code",
   "execution_count": null,
   "id": "acd65427",
   "metadata": {},
   "outputs": [],
   "source": []
  },
  {
   "cell_type": "code",
   "execution_count": 9,
   "id": "f742cc14",
   "metadata": {},
   "outputs": [],
   "source": [
    "img, lbl = next(iter(testloader))"
   ]
  },
  {
   "cell_type": "code",
   "execution_count": 10,
   "id": "767d8cb7",
   "metadata": {},
   "outputs": [
    {
     "data": {
      "text/plain": [
       "<matplotlib.image.AxesImage at 0x7f737b1b6f40>"
      ]
     },
     "execution_count": 10,
     "metadata": {},
     "output_type": "execute_result"
    },
    {
     "data": {
      "image/png": "[encoded data removed]",
      "text/plain": [
       "<Figure size 640x480 with 1 Axes>"
      ]
     },
     "metadata": {},
     "output_type": "display_data"
    }
   ],
   "source": [
    "img_plt = img.squeeze()\n",
    "plt.imshow(img_plt[0], cmap='gray')"
   ]
  },
  {
   "cell_type": "code",
   "execution_count": 11,
   "id": "8b5d078d",
   "metadata": {},
   "outputs": [
    {
     "name": "stdout",
     "output_type": "stream",
     "text": [
      "Best guess: 8 (Second best: 3)\n",
      "Labeled: 8\n"
     ]
    }
   ],
   "source": [
    "img = img.view(img.shape[0], -1)\n",
    "\n",
    "print('Best guess:', torch.exp(model(img[0])).topk(1,dim=0)[1][0].tolist(), '(Second best:', str(torch.exp(model(img[0])).topk(2,dim=0)[1][1].tolist()) + ')')\n",
    "print('Labeled:', lbl[0].tolist())"
   ]
  },
  {
   "cell_type": "code",
   "execution_count": null,
   "id": "08a699eb",
   "metadata": {},
   "outputs": [],
   "source": []
  }
 ],
 "metadata": {
  "kernelspec": {
   "display_name": "Python 3 (ipykernel)",
   "language": "python",
   "name": "python3"
  },
  "language_info": {
   "codemirror_mode": {
    "name": "ipython",
    "version": 3
   },
   "file_extension": ".py",
   "mimetype": "text/x-python",
   "name": "python",
   "nbconvert_exporter": "python",
   "pygments_lexer": "ipython3",
   "version": "3.9.12"
  }
 },
 "nbformat": 4,
 "nbformat_minor": 5
}
