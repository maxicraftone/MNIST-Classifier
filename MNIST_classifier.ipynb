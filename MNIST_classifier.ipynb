{
 "cells": [
  {
   "cell_type": "markdown",
   "id": "b944e1ac",
   "metadata": {},
   "source": [
    "## MNIST Classifier\n",
    "This small project demonstrates a classifier for the MNIST dataset of handwritten numbers.\n",
    "The model uses two hidden layers with leaky ReLUs, the Cross-Entropy loss function and the Adam optimizer. \n",
    "\n",
    "We use the pytorch library for building and training the model, torchvision for loading the datasets and matplotlib for plotting results."
   ]
  },
  {
   "cell_type": "code",
   "execution_count": 1,
   "id": "15e4bdc0",
   "metadata": {},
   "outputs": [],
   "source": [
    "import torch #PyTorch import\n",
    "from torch import nn,functional,optim #Essentials for model\n",
    "from torch.nn.functional import leaky_relu\n",
    "\n",
    "from torchvision import transforms as tfs, datasets as dts #Import for using MNIST dataset and transforming data\n",
    "from torch.utils.data import DataLoader #Loading datasets\n",
    "\n",
    "import matplotlib.pyplot as plt #Plotting results and data"
   ]
  },
  {
   "cell_type": "markdown",
   "id": "72054ed8",
   "metadata": {},
   "source": [
    "### Hyperparameters for the leaky ReLUs and the optimizer\n",
    "In this part we will be defining parameters which will influence the training. They are probably not optimal, but were the best ones found in a relatively short time. "
   ]
  },
  {
   "cell_type": "code",
   "execution_count": 2,
   "id": "f58459db",
   "metadata": {},
   "outputs": [],
   "source": [
    "leaky_relu_slope_1 = 0.05 #Slope for negative values of leakyReLU\n",
    "leaky_relu_slope_2 = 0.05 #Slope for negative values of leakyReLU\n",
    "\n",
    "adam_lr = 0.002 #Adam optimizer learning rate\n",
    "adam_betas = (0.9,0.9)"
   ]
  },
  {
   "cell_type": "markdown",
   "id": "6ddc8ebd",
   "metadata": {},
   "source": [
    "### Loading and transforming data\n",
    "Now the MNIST training and test datasets are downloaded and transformed to pytorch tensors."
   ]
  },
  {
   "cell_type": "code",
   "execution_count": 3,
   "id": "bd3f34f0",
   "metadata": {},
   "outputs": [],
   "source": [
    "transform = tfs.Compose([tfs.ToTensor()]) # Transform data to pytorch tensor"
   ]
  },
  {
   "cell_type": "code",
   "execution_count": 4,
   "id": "3c322847",
   "metadata": {},
   "outputs": [],
   "source": [
    "trainset = dts.MNIST('./MNIST_data/', download=True, train=True, transform=transform) # 60000 labeled training images\n",
    "testset = dts.MNIST('./MNIST_data/', download=True, train=False, transform=transform) # 10000 labeled test images"
   ]
  },
  {
   "cell_type": "markdown",
   "id": "f2593781",
   "metadata": {},
   "source": [
    "The data is loaded in batches for quicker and more efficient calculations."
   ]
  },
  {
   "cell_type": "code",
   "execution_count": 5,
   "id": "26345cb6",
   "metadata": {},
   "outputs": [],
   "source": [
    "batch_size = 64 # Size for batches of data loaded in the DataLoader\n",
    "\n",
    "trainloader = DataLoader(trainset, batch_size=batch_size, shuffle=True) # Load in 60000/batch_size batches (tensors)\n",
    "testloader = DataLoader(testset, batch_size=batch_size, shuffle=True) # Load in 10000/batch_size batches (tensors)"
   ]
  },
  {
   "cell_type": "markdown",
   "id": "2a01360d",
   "metadata": {},
   "source": [
    "### Creating the model\n",
    "The next step is defining the neural network/model with 784 input nodes (one node for each pixel) and 10 output nodes for classification. The model uses two hidden layers and leakyReLU functions with a negative slope defined in the hyperparameters above."
   ]
  },
  {
   "cell_type": "code",
   "execution_count": 6,
   "id": "69b6954e",
   "metadata": {},
   "outputs": [],
   "source": [
    "class Network(nn.Module):\n",
    "    def __init__(self):\n",
    "        \"\"\"\n",
    "        Initialize the network. Define layers\n",
    "        \n",
    "        :return: None\n",
    "        \"\"\"\n",
    "        super(Network, self).__init__()\n",
    "        self.hidden_layer_1 = nn.Linear(28 * 28, 512)\n",
    "        self.hidden_layer_2 = nn.Linear(512, 512)\n",
    "        \n",
    "        self.output_layer = nn.Linear(512, 10)\n",
    "    \n",
    "    def forward(self, input):\n",
    "        \"\"\"\n",
    "        Feeds data into the network and returns values of the output nodes.\n",
    "        \n",
    "        :param input: Tensor of dimensions (batch_size, 784)\n",
    "        :return: Tensor of dimensions (batch_size, 10)\n",
    "        \"\"\"\n",
    "        input = leaky_relu(self.hidden_layer_1(input), leaky_relu_slope_1) # Leaky ReLU for first hidden layer\n",
    "        input = leaky_relu(self.hidden_layer_2(input), leaky_relu_slope_2) # Leaky ReLU for second hidden layer\n",
    "        \n",
    "        output = self.output_layer(input)\n",
    "        return output\n",
    "\n",
    "model = Network()"
   ]
  },
  {
   "cell_type": "markdown",
   "id": "e85d76c7",
   "metadata": {},
   "source": [
    "Here the loss function and optimizer are defined using hyperparameters declared above. "
   ]
  },
  {
   "cell_type": "code",
   "execution_count": 7,
   "id": "45cf1322",
   "metadata": {},
   "outputs": [],
   "source": [
    "criterion = nn.CrossEntropyLoss() #Loss function CrossEntropyLoss = -log(Softmax)\n",
    "optimizer = optim.Adam(model.parameters(),lr=adam_lr,betas=adam_betas) #Adam optimizer"
   ]
  },
  {
   "cell_type": "markdown",
   "id": "ab9a7117",
   "metadata": {},
   "source": [
    "### Training and testing the model\n",
    "Now we train and test the network in epochs. Loss on training and test data are shown for every epoch, as well as average accuracy of predictions on the test dataset.\n",
    "Losses for every epoch are stored in a list for plotting them later."
   ]
  },
  {
   "cell_type": "code",
   "execution_count": 8,
   "id": "3767576e",
   "metadata": {},
   "outputs": [
    {
     "name": "stdout",
     "output_type": "stream",
     "text": [
      "Epoch: 1/10\n",
      ">  Training Loss: 0.212\n",
      ">  Test Loss: 0.14\n",
      ">>  Test Accuracy: 0.959\n",
      "Epoch: 2/10\n",
      ">  Training Loss: 0.107\n",
      ">  Test Loss: 0.115\n",
      ">>  Test Accuracy: 0.969\n",
      "Epoch: 3/10\n",
      ">  Training Loss: 0.082\n",
      ">  Test Loss: 0.093\n",
      ">>  Test Accuracy: 0.976\n",
      "Epoch: 4/10\n",
      ">  Training Loss: 0.068\n",
      ">  Test Loss: 0.1\n",
      ">>  Test Accuracy: 0.976\n",
      "Epoch: 5/10\n",
      ">  Training Loss: 0.06\n",
      ">  Test Loss: 0.105\n",
      ">>  Test Accuracy: 0.976\n",
      "Epoch: 6/10\n",
      ">  Training Loss: 0.055\n",
      ">  Test Loss: 0.108\n",
      ">>  Test Accuracy: 0.979\n",
      "Epoch: 7/10\n",
      ">  Training Loss: 0.051\n",
      ">  Test Loss: 0.11\n",
      ">>  Test Accuracy: 0.979\n",
      "Epoch: 8/10\n",
      ">  Training Loss: 0.047\n",
      ">  Test Loss: 0.152\n",
      ">>  Test Accuracy: 0.976\n",
      "Epoch: 9/10\n",
      ">  Training Loss: 0.044\n",
      ">  Test Loss: 0.17\n",
      ">>  Test Accuracy: 0.976\n",
      "Epoch: 10/10\n",
      ">  Training Loss: 0.043\n",
      ">  Test Loss: 0.164\n",
      ">>  Test Accuracy: 0.976\n"
     ]
    }
   ],
   "source": [
    "epochs = 10\n",
    "\n",
    "training_losses = []\n",
    "test_losses = []\n",
    "\n",
    "for epoch in range(epochs):\n",
    "    print('Epoch:', str(epoch+1) + '/' + str(epochs))\n",
    "    \n",
    "    #Training\n",
    "    training_loss = 0\n",
    "    for images, labels in trainloader:\n",
    "        images = images.view(images.shape[0],-1) #Flatten images from 2D to 1D\n",
    "        \n",
    "        optimizer.zero_grad() #Set gradients to zero\n",
    "        \n",
    "        predictions = model(images)\n",
    "        \n",
    "        loss = criterion(predictions, labels)\n",
    "        loss.backward()\n",
    "        \n",
    "        optimizer.step()\n",
    "        \n",
    "        training_loss += loss.item()\n",
    "    \n",
    "    training_losses.append(training_loss/len(trainloader))\n",
    "    print('>  Training Loss:', str(round(training_loss/len(trainloader), 3)))\n",
    "    \n",
    "    #Test\n",
    "    test_loss = 0\n",
    "    accuracy = 0\n",
    "    for images,labels in testloader:\n",
    "        images = images.view(images.shape[0],-1)\n",
    "                \n",
    "        test_predictions = model(images)\n",
    "        \n",
    "        test_loss += criterion(test_predictions, labels)\n",
    "                \n",
    "        top_probability, top_guess = test_predictions.topk(1, dim=1) #Tensor of top guesses for each image\n",
    "        guess_correct = top_guess == labels.view(top_guess.shape) #Tensor of booleans for each guess (True: correct guess, False: wrong guess)\n",
    "        accuracy += torch.mean(guess_correct.type(torch.FloatTensor)) #Calculate mean of booleans (True:=1.0, False:=0.0)\n",
    "\n",
    "    test_losses.append(test_loss.tolist()/len(testloader))\n",
    "    print('>  Test Loss:', str(round(test_loss.tolist()/len(testloader), 3)))\n",
    "    print('>>  Test Accuracy:', str(round(accuracy.tolist()/len(testloader), 3)))"
   ]
  },
  {
   "cell_type": "markdown",
   "id": "e012d345",
   "metadata": {},
   "source": [
    "### Results\n",
    "The following plot shows how training and test loss develop with increasing epochs. It becomes clear that the model is overfitting after a short time. This could probably be improved a lot by changing hyperparameters or the general network structure."
   ]
  },
  {
   "cell_type": "code",
   "execution_count": 9,
   "id": "1e8d0c42",
   "metadata": {},
   "outputs": [
    {
     "data": {
      "image/png": "[encoded data removed]",
      "text/plain": [
       "<Figure size 640x480 with 1 Axes>"
      ]
     },
     "metadata": {},
     "output_type": "display_data"
    }
   ],
   "source": [
    "plt.plot(range(1,11), training_losses, 'bx', markersize=4, label='Training loss')\n",
    "plt.plot(range(1,11), test_losses, 'rx', markersize=4, label='Test loss')\n",
    "\n",
    "plt.xlabel('Epochs')\n",
    "plt.ylabel('Cross-Entropy Loss')\n",
    "plt.xlim(0,10,1)\n",
    "plt.xticks(range(11))\n",
    "\n",
    "plt.legend()\n",
    "plt.show()"
   ]
  },
  {
   "cell_type": "markdown",
   "id": "55098ea5",
   "metadata": {},
   "source": [
    "For a quick visualization a picture from the testset can be loaded and fed through the network."
   ]
  },
  {
   "cell_type": "code",
   "execution_count": 10,
   "id": "f742cc14",
   "metadata": {},
   "outputs": [],
   "source": [
    "img, lbl = next(iter(testloader))"
   ]
  },
  {
   "cell_type": "markdown",
   "id": "bcc3cf04",
   "metadata": {},
   "source": [
    "Here the image fed to the network is plotted."
   ]
  },
  {
   "cell_type": "code",
   "execution_count": 11,
   "id": "767d8cb7",
   "metadata": {},
   "outputs": [
    {
     "data": {
      "text/plain": [
       "<matplotlib.image.AxesImage at 0x7f4689892190>"
      ]
     },
     "execution_count": 11,
     "metadata": {},
     "output_type": "execute_result"
    },
    {
     "data": {
      "image/png": "[encoded data removed]",
      "text/plain": [
       "<Figure size 640x480 with 1 Axes>"
      ]
     },
     "metadata": {},
     "output_type": "display_data"
    }
   ],
   "source": [
    "img_plt = img.squeeze()\n",
    "plt.imshow(img_plt[0], cmap='gray')"
   ]
  },
  {
   "cell_type": "markdown",
   "id": "eee43ac0",
   "metadata": {},
   "source": [
    "The networks prediction will be correct around 97% of the time. (See test accuracy above)"
   ]
  },
  {
   "cell_type": "code",
   "execution_count": 12,
   "id": "8b5d078d",
   "metadata": {},
   "outputs": [
    {
     "name": "stdout",
     "output_type": "stream",
     "text": [
      "Best guess: 6 (Second best: 2)\n",
      "Labeled: 6\n"
     ]
    }
   ],
   "source": [
    "img = img.view(img.shape[0], -1)\n",
    "\n",
    "print('Best guess:', torch.exp(model(img[0])).topk(1,dim=0)[1][0].tolist(), '(Second best:', str(torch.exp(model(img[0])).topk(2,dim=0)[1][1].tolist()) + ')')\n",
    "print('Labeled:', lbl[0].tolist())"
   ]
  }
 ],
 "metadata": {
  "kernelspec": {
   "display_name": "Python 3 (ipykernel)",
   "language": "python",
   "name": "python3"
  },
  "language_info": {
   "codemirror_mode": {
    "name": "ipython",
    "version": 3
   },
   "file_extension": ".py",
   "mimetype": "text/x-python",
   "name": "python",
   "nbconvert_exporter": "python",
   "pygments_lexer": "ipython3",
   "version": "3.9.12"
  }
 },
 "nbformat": 4,
 "nbformat_minor": 5
}
