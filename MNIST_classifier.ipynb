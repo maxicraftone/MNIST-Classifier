{
 "cells": [
  {
   "cell_type": "code",
   "execution_count": 1,
   "id": "15e4bdc0",
   "metadata": {},
   "outputs": [],
   "source": [
    "import torch #PyTorch import\n",
    "from torch import nn,functional,optim #Essentials for model\n",
    "from torch.nn.functional import leaky_relu\n",
    "\n",
    "from torchvision import transforms as tfs, datasets as dts #Import for using MNIST dataset and transforming data\n",
    "from torch.utils.data import DataLoader #Loading datasets\n",
    "\n",
    "import matplotlib.pyplot as plt #Plotting results and data"
   ]
  },
  {
   "cell_type": "code",
   "execution_count": 2,
   "id": "f58459db",
   "metadata": {},
   "outputs": [],
   "source": [
    "batch_size = 32 #Size for batches of data loaded in the DataLoader\n",
    "\n",
    "leaky_relu_slope_1 = 0.05 #Slope for negative values of leakyReLU\n",
    "leaky_relu_slope_2 = 0.05 #Slope for negative values of leakyReLU\n",
    "\n",
    "adam_lr = 0.008 #Adam optimizer learning rate"
   ]
  },
  {
   "cell_type": "code",
   "execution_count": 3,
   "id": "bd3f34f0",
   "metadata": {},
   "outputs": [],
   "source": [
    "transform = tfs.Compose([tfs.ToTensor()]) #Transform data to pytorch tensor"
   ]
  },
  {
   "cell_type": "code",
   "execution_count": 4,
   "id": "3c322847",
   "metadata": {},
   "outputs": [],
   "source": [
    "trainset = dts.MNIST('./MNIST_data/', download=True, train=True, transform=transform) #60000 labeled training images\n",
    "testset = dts.MNIST('./MNIST_data/', download=True, train=False, transform=transform) #10000 labeled test images"
   ]
  },
  {
   "cell_type": "code",
   "execution_count": 5,
   "id": "26345cb6",
   "metadata": {},
   "outputs": [],
   "source": [
    "trainloader = DataLoader(trainset, batch_size=batch_size, shuffle=True) #Load in 60000/batch_size batches\n",
    "testloader = DataLoader(testset, batch_size=batch_size, shuffle=True) #Load in 10000/batch_size batches"
   ]
  },
  {
   "cell_type": "code",
   "execution_count": 6,
   "id": "69b6954e",
   "metadata": {},
   "outputs": [],
   "source": [
    "class Network(nn.Module):\n",
    "    def __init__(self):\n",
    "        super(Network, self).__init__()\n",
    "        self.hidden_layer_1 = nn.Linear(28 * 28, 128)\n",
    "        self.hidden_layer_2 = nn.Linear(128, 64)\n",
    "        \n",
    "        self.output_layer = nn.Linear(64, 10)\n",
    "    \n",
    "    def forward(self, input):\n",
    "        input = leaky_relu(self.hidden_layer_1(input), leaky_relu_slope_1)\n",
    "        input = leaky_relu(self.hidden_layer_2(input), leaky_relu_slope_2)\n",
    "        \n",
    "        output = self.output_layer(input)\n",
    "        return output\n",
    "\n",
    "model = Network()"
   ]
  },
  {
   "cell_type": "code",
   "execution_count": 7,
   "id": "45cf1322",
   "metadata": {},
   "outputs": [],
   "source": [
    "criterion = nn.CrossEntropyLoss()\n",
    "optimizer = optim.Adam(model.parameters(),lr=adam_lr)"
   ]
  },
  {
   "cell_type": "code",
   "execution_count": 8,
   "id": "3767576e",
   "metadata": {},
   "outputs": [
    {
     "name": "stdout",
     "output_type": "stream",
     "text": [
      "Epoch: 1/5, Training Loss: 0.248, Test Loss: 0.208, Test Accuracy: 0.943\n",
      "Epoch: 2/5, Training Loss: 0.162, Test Loss: 0.174, Test Accuracy: 0.952\n",
      "Epoch: 3/5, Training Loss: 0.143, Test Loss: 0.139, Test Accuracy: 0.966\n",
      "Epoch: 4/5, Training Loss: 0.131, Test Loss: 0.23, Test Accuracy: 0.942\n",
      "Epoch: 5/5, Training Loss: 0.123, Test Loss: 0.135, Test Accuracy: 0.963\n"
     ]
    }
   ],
   "source": [
    "epochs = 5\n",
    "\n",
    "for epoch in range(epochs):\n",
    "    #Training\n",
    "    training_loss = 0\n",
    "    for images, labels in trainloader:\n",
    "        images = images.view(images.shape[0],-1) #Flatten images from 2D to 1D\n",
    "        \n",
    "        optimizer.zero_grad() #Set gradients to zero\n",
    "        \n",
    "        predictions = model(images)\n",
    "        \n",
    "        loss = criterion(predictions, labels) \n",
    "        loss.backward()\n",
    "        \n",
    "        optimizer.step()\n",
    "        \n",
    "        training_loss += loss.item()\n",
    "    \n",
    "    #Test\n",
    "    test_loss = 0\n",
    "    accuracy = 0\n",
    "    for images,labels in testloader:\n",
    "        images = images.view(images.shape[0],-1)\n",
    "                \n",
    "        test_predictions = model(images)\n",
    "        \n",
    "        test_loss += criterion(test_predictions, labels)\n",
    "                \n",
    "        top_probability, top_guess = test_predictions.topk(1, dim=1) #Tensor of top guesses for each image\n",
    "        guess_correct = top_guess == labels.view(top_guess.shape) #Tensor of booleans for each guess (True: correct guess, False: wrong guess)\n",
    "        accuracy += torch.mean(guess_correct.type(torch.FloatTensor)) #Calculate mean of booleans (True:=1.0, False:=0.0)\n",
    "\n",
    "    print('Epoch:', str(epoch+1) + '/' + str(epochs) + ',',\n",
    "          'Training Loss:', str(round(training_loss/len(trainloader), 3)) + ',',\n",
    "          'Test Loss:', str(round(test_loss.tolist()/len(testloader), 3)) + ',',\n",
    "          'Test Accuracy:', str(round(accuracy.tolist()/len(testloader), 3)))"
   ]
  },
  {
   "cell_type": "code",
   "execution_count": 9,
   "id": "f742cc14",
   "metadata": {},
   "outputs": [],
   "source": [
    "img, lbl = next(iter(testloader))"
   ]
  },
  {
   "cell_type": "code",
   "execution_count": 10,
   "id": "767d8cb7",
   "metadata": {},
   "outputs": [
    {
     "data": {
      "text/plain": [
       "<matplotlib.image.AxesImage at 0x7f02a261cd60>"
      ]
     },
     "execution_count": 10,
     "metadata": {},
     "output_type": "execute_result"
    },
    {
     "data": {
      "image/png": "[encoded data removed]",
      "text/plain": [
       "<Figure size 640x480 with 1 Axes>"
      ]
     },
     "metadata": {},
     "output_type": "display_data"
    }
   ],
   "source": [
    "img_plt = img.squeeze()\n",
    "plt.imshow(img_plt[0], cmap='gray')"
   ]
  },
  {
   "cell_type": "code",
   "execution_count": 11,
   "id": "8b5d078d",
   "metadata": {},
   "outputs": [
    {
     "name": "stdout",
     "output_type": "stream",
     "text": [
      "Best guess: 9 (Second best: 7)\n",
      "Labeled: 9\n"
     ]
    }
   ],
   "source": [
    "img = img.view(img.shape[0], -1)\n",
    "\n",
    "print('Best guess:', torch.exp(model(img[0])).topk(1,dim=0)[1][0].tolist(), '(Second best:', str(torch.exp(model(img[0])).topk(2,dim=0)[1][1].tolist()) + ')')\n",
    "print('Labeled:', lbl[0].tolist())"
   ]
  },
  {
   "cell_type": "code",
   "execution_count": null,
   "id": "08a699eb",
   "metadata": {},
   "outputs": [],
   "source": []
  }
 ],
 "metadata": {
  "kernelspec": {
   "display_name": "Python 3 (ipykernel)",
   "language": "python",
   "name": "python3"
  },
  "language_info": {
   "codemirror_mode": {
    "name": "ipython",
    "version": 3
   },
   "file_extension": ".py",
   "mimetype": "text/x-python",
   "name": "python",
   "nbconvert_exporter": "python",
   "pygments_lexer": "ipython3",
   "version": "3.9.12"
  }
 },
 "nbformat": 4,
 "nbformat_minor": 5
}
