{
 "cells": [
  {
   "cell_type": "code",
   "execution_count": 1,
   "id": "15e4bdc0",
   "metadata": {},
   "outputs": [],
   "source": [
    "import torch #PyTorch import\n",
    "from torch import nn,functional,optim #Essentials for model\n",
    "from torch.nn.functional import leaky_relu\n",
    "\n",
    "from torchvision import transforms as tfs, datasets as dts #Import for using MNIST dataset and transforming data\n",
    "from torch.utils.data import DataLoader #Loading datasets\n",
    "\n",
    "import matplotlib.pyplot as plt #Plotting results and data"
   ]
  },
  {
   "cell_type": "code",
   "execution_count": 2,
   "id": "f58459db",
   "metadata": {},
   "outputs": [],
   "source": [
    "batch_size = 64 #Size for batches of data loaded in the DataLoader\n",
    "\n",
    "leaky_relu_slope_1 = 0.01 #Slope for negative values of leakyReLU\n",
    "leaky_relu_slope_2 = 0.01 #Slope for negative values of leakyReLU\n",
    "\n",
    "adam_lr = 0.03 #Adam optimizer hyperparameter"
   ]
  },
  {
   "cell_type": "code",
   "execution_count": 3,
   "id": "bd3f34f0",
   "metadata": {},
   "outputs": [],
   "source": [
    "transform = tfs.Compose([tfs.ToTensor(),\n",
    "                       tfs.Normalize((0.5),(0.5))])"
   ]
  },
  {
   "cell_type": "code",
   "execution_count": 4,
   "id": "3c322847",
   "metadata": {},
   "outputs": [],
   "source": [
    "trainset = dts.MNIST('./MNIST_data/', download=True, train=True, transform=transform)\n",
    "testset = dts.MNIST('./MNIST_data/', download=True, train=False, transform=transform)"
   ]
  },
  {
   "cell_type": "code",
   "execution_count": 5,
   "id": "26345cb6",
   "metadata": {},
   "outputs": [],
   "source": [
    "trainloader = DataLoader(trainset, batch_size=batch_size, shuffle=True)\n",
    "testloader = DataLoader(testset, batch_size=batch_size, shuffle=True)"
   ]
  },
  {
   "cell_type": "code",
   "execution_count": 6,
   "id": "69b6954e",
   "metadata": {},
   "outputs": [],
   "source": [
    "class Network(nn.Module):\n",
    "    def __init__(self):\n",
    "        super(Network, self).__init__()\n",
    "        self.hidden_layer_1 = nn.Linear(28 * 28, 128)\n",
    "        self.hidden_layer_2 = nn.Linear(128, 64)\n",
    "        \n",
    "        self.output_layer = nn.Linear(64, 10)\n",
    "    \n",
    "    def forward(self, input):\n",
    "        input = leaky_relu(self.hidden_layer_1(input), leaky_relu_slope_1)\n",
    "        input = leaky_relu(self.hidden_layer_2(input), leaky_relu_slope_2)\n",
    "        \n",
    "        output = self.output_layer(input)\n",
    "        return output\n",
    "\n",
    "model = Network()"
   ]
  },
  {
   "cell_type": "code",
   "execution_count": 7,
   "id": "45cf1322",
   "metadata": {},
   "outputs": [],
   "source": [
    "criterion = nn.CrossEntropyLoss()\n",
    "optimizer = optim.Adam(model.parameters(),lr=adam_lr)"
   ]
  },
  {
   "cell_type": "code",
   "execution_count": 8,
   "id": "3767576e",
   "metadata": {},
   "outputs": [
    {
     "name": "stdout",
     "output_type": "stream",
     "text": [
      "Epoch: 1/15..  Training Loss: 0.686..  Test Loss: 0.353..  Test Accuracy: 0.899\n",
      "Epoch: 2/15..  Training Loss: 0.395..  Test Loss: 0.326..  Test Accuracy: 0.909\n",
      "Epoch: 3/15..  Training Loss: 0.356..  Test Loss: 0.346..  Test Accuracy: 0.900\n",
      "Epoch: 4/15..  Training Loss: 0.385..  Test Loss: 0.324..  Test Accuracy: 0.915\n",
      "Epoch: 5/15..  Training Loss: 0.427..  Test Loss: 0.319..  Test Accuracy: 0.914\n",
      "Epoch: 6/15..  Training Loss: 0.374..  Test Loss: 0.382..  Test Accuracy: 0.892\n",
      "Epoch: 7/15..  Training Loss: 0.423..  Test Loss: 0.670..  Test Accuracy: 0.844\n",
      "Epoch: 8/15..  Training Loss: 0.716..  Test Loss: 0.507..  Test Accuracy: 0.905\n",
      "Epoch: 9/15..  Training Loss: 0.572..  Test Loss: 0.327..  Test Accuracy: 0.926\n",
      "Epoch: 10/15..  Training Loss: 0.432..  Test Loss: 0.943..  Test Accuracy: 0.870\n",
      "Epoch: 11/15..  Training Loss: 0.463..  Test Loss: 0.353..  Test Accuracy: 0.914\n",
      "Epoch: 12/15..  Training Loss: 0.594..  Test Loss: 0.564..  Test Accuracy: 0.875\n",
      "Epoch: 13/15..  Training Loss: 0.394..  Test Loss: 0.418..  Test Accuracy: 0.896\n",
      "Epoch: 14/15..  Training Loss: 0.512..  Test Loss: 0.404..  Test Accuracy: 0.903\n",
      "Epoch: 15/15..  Training Loss: 0.450..  Test Loss: 0.389..  Test Accuracy: 0.901\n"
     ]
    }
   ],
   "source": [
    "epochs = 15\n",
    "train_losses, test_losses = [] ,[]\n",
    "\n",
    "for epoch in range(epochs):\n",
    "    running_loss = 0\n",
    "    for images, labels in trainloader:\n",
    "        images = images.view(images.shape[0],-1)\n",
    "        \n",
    "        optimizer.zero_grad()\n",
    "        \n",
    "        predictions = model(images)\n",
    "        \n",
    "        loss = criterion(predictions, labels)\n",
    "        loss.backward()\n",
    "        \n",
    "        optimizer.step()\n",
    "        \n",
    "        running_loss += loss.item()\n",
    "    else:\n",
    "        test_loss = 0\n",
    "        accuracy = 0\n",
    "        \n",
    "        with torch.no_grad(): #Turning off gradients to speed up\n",
    "            model.eval()\n",
    "            for images,labels in testloader:\n",
    "                images = images.view(images.shape[0],-1)\n",
    "                \n",
    "                test_predictions = model(images)\n",
    "                test_loss += criterion(test_predictions, labels)\n",
    "                \n",
    "                ps = torch.exp(test_predictions)\n",
    "                top_p, top_class = ps.topk(1, dim = 1)\n",
    "                equals = top_class == labels.view(*top_class.shape)\n",
    "                accuracy += torch.mean(equals.type(torch.FloatTensor))\n",
    "        model.train()        \n",
    "        train_losses.append(running_loss/len(trainloader))\n",
    "        test_losses.append(test_loss/len(testloader))\n",
    "\n",
    "        print(\"Epoch: {}/{}.. \".format(epoch+1, epochs),\n",
    "              \"Training Loss: {:.3f}.. \".format(running_loss/len(trainloader)),\n",
    "              \"Test Loss: {:.3f}.. \".format(test_loss/len(testloader)),\n",
    "              \"Test Accuracy: {:.3f}\".format(accuracy/len(testloader)))"
   ]
  },
  {
   "cell_type": "code",
   "execution_count": 37,
   "id": "f742cc14",
   "metadata": {},
   "outputs": [],
   "source": [
    "img, lbl = next(iter(testloader))"
   ]
  },
  {
   "cell_type": "code",
   "execution_count": 38,
   "id": "767d8cb7",
   "metadata": {},
   "outputs": [
    {
     "data": {
      "text/plain": [
       "<matplotlib.image.AxesImage at 0x7f1dad08bdc0>"
      ]
     },
     "execution_count": 38,
     "metadata": {},
     "output_type": "execute_result"
    },
    {
     "data": {
      "image/png": "[encoded data removed]",
      "text/plain": [
       "<Figure size 640x480 with 1 Axes>"
      ]
     },
     "metadata": {},
     "output_type": "display_data"
    }
   ],
   "source": [
    "img_plt = img.squeeze()\n",
    "plt.imshow(img_plt[0], cmap='gray')"
   ]
  },
  {
   "cell_type": "code",
   "execution_count": 39,
   "id": "8b5d078d",
   "metadata": {},
   "outputs": [
    {
     "name": "stdout",
     "output_type": "stream",
     "text": [
      "tensor(5)\n"
     ]
    }
   ],
   "source": [
    "img = img.view(img.shape[0], -1)\n",
    "\n",
    "print(torch.exp(model(img[0])).topk(1,dim=0)[1][0])"
   ]
  },
  {
   "cell_type": "code",
   "execution_count": null,
   "id": "08a699eb",
   "metadata": {},
   "outputs": [],
   "source": []
  }
 ],
 "metadata": {
  "kernelspec": {
   "display_name": "Python 3 (ipykernel)",
   "language": "python",
   "name": "python3"
  },
  "language_info": {
   "codemirror_mode": {
    "name": "ipython",
    "version": 3
   },
   "file_extension": ".py",
   "mimetype": "text/x-python",
   "name": "python",
   "nbconvert_exporter": "python",
   "pygments_lexer": "ipython3",
   "version": "3.9.12"
  }
 },
 "nbformat": 4,
 "nbformat_minor": 5
}
